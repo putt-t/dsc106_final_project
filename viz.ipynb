{
 "cells": [
  {
   "cell_type": "code",
   "execution_count": null,
   "metadata": {},
   "outputs": [],
   "source": [
    "import pandas as pd\n",
    "\n",
    "subject = pd.read_csv('subject-info-exp.csv')\n",
    "subject = subject.drop(columns=['Unnamed: 21', 'Unnamed: 22', 'Unnamed: 23'])\n",
    "subject.head()"
   ]
  }
 ],
 "metadata": {
  "kernelspec": {
   "display_name": "base",
   "language": "python",
   "name": "python3"
  },
  "language_info": {
   "name": "python",
   "version": "3.11.5"
  }
 },
 "nbformat": 4,
 "nbformat_minor": 2
}
